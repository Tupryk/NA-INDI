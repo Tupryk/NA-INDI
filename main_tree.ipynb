{
 "cells": [
  {
   "cell_type": "markdown",
   "metadata": {},
   "source": [
    "# Residual model generation pipeline"
   ]
  },
  {
   "cell_type": "code",
   "execution_count": null,
   "metadata": {},
   "outputs": [],
   "source": [
    "import os\n",
    "import shutil\n",
    "import numpy as np\n",
    "import matplotlib.pyplot as plt\n",
    "\n",
    "from LMCE.model import DTE\n",
    "import LMCE.cfusdlog as cfusdlog\n",
    "from LMCE.data_prep import prepare_data\n",
    "import LMCE.uav_trajectory as uav_trajectory\n",
    "from LMCE.residual_calculation import residual\n",
    "from LMCE.model_to_c_conversion import exportTree, tree_c_model_test\n",
    "from LMCE.error_estimation import error_calculator, find_best_cutoff\n",
    "\n",
    "plt.rcParams['text.usetex'] = True\n",
    "plt.rcParams['font.family'] = 'serif'\n",
    "plt.rcParams['font.serif'] = ['Times']"
   ]
  },
  {
   "cell_type": "markdown",
   "metadata": {},
   "source": [
    "## Preparing the data\n",
    "First define where the data is stored, then it can be loaded, the `prepare_data` function calculates the labels (residual forces)."
   ]
  },
  {
   "cell_type": "code",
   "execution_count": null,
   "metadata": {},
   "outputs": [],
   "source": [
    "# Get train data paths\n",
    "indices = [i for i in range(0, 86)]\n",
    "test_indices = [2]\n",
    "for i in test_indices:\n",
    "    del indices[i]\n",
    "training_data_paths = [f\"./crazyflie-data-collection/jana_flight_data/jana{i:02}\" for i in indices]\n",
    "testing_data_paths = [f\"./crazyflie-data-collection/jana_flight_data/jana{i:02}\" for i in test_indices]\n",
    "\n",
    "# training_data_paths = [f\"./crazyflie-data-collection/brushless_flights/data/eckart{i:02}\" for i in indices]\n",
    "# testing_data_paths = [f\"./crazyflie-data-collection/brushless_flights/data/eckart{i:02}\" for i in test_indices]\n",
    "\n",
    "# Prepare data\n",
    "residual_func = lambda data: residual(data)\n",
    "# residual_func = lambda data: residual(data, is_brushless=True, has_payload=False, total_mass=.0444, use_rpm=True)\n",
    "X_train, y_train = prepare_data(training_data_paths, save_as=\"train_data\", residual_func=residual_func, overwrite=True)\n",
    "X_test, y_test = prepare_data(testing_data_paths, save_as=\"test_data\", shuffle_data=False, residual_func=residual_func, overwrite=True)"
   ]
  },
  {
   "cell_type": "markdown",
   "metadata": {},
   "source": [
    "We can plot the flight path and residual forces like this"
   ]
  },
  {
   "cell_type": "code",
   "execution_count": null,
   "metadata": {},
   "outputs": [],
   "source": [
    "data_path = testing_data_paths[0]\n",
    "visual_scale = 1.\n",
    "\n",
    "fig = plt.figure()\n",
    "ax = plt.axes(projection='3d')\n",
    "\n",
    "data = cfusdlog.decode(data_path)['fixedFrequency']\n",
    "label = os.path.basename(data_path)\n",
    "\n",
    "x = [i for i in data[\"stateEstimate.x\"]]\n",
    "y = [i for i in data[\"stateEstimate.y\"]]\n",
    "z = [i for i in data[\"stateEstimate.z\"]]\n",
    "origin = np.array([x, y, z]).T\n",
    "\n",
    "f, _ = residual_func(data)\n",
    "vector = np.array([f[:, 0], f[:, 1], f[:, 2]]).T * visual_scale\n",
    "ax.quiver(origin[:, 0], origin[:, 1], origin[:, 2], vector[:, 0], vector[:, 1],\n",
    "          vector[:, 2], color='r', alpha=.1, label=f\"Residual forces (scaled by {visual_scale})\")\n",
    "\n",
    "ax.plot3D(x, y, z, label=label)\n",
    "\n",
    "# Calculate the avg. residual force for each axis\n",
    "for j, v in enumerate([\"x\", \"y\", \"z\"]):\n",
    "    f_j = [f_[j] for f_ in f]\n",
    "    print(f\"{label} mean residual f_{v}: {sum(f_j)/len(f_j)}\")\n",
    "\n",
    "plt.title(\"Residual forces on quadrotor trajectory\")\n",
    "plt.legend()\n",
    "plt.axis('equal')\n",
    "plt.show()"
   ]
  },
  {
   "cell_type": "markdown",
   "metadata": {},
   "source": [
    "## Training the model"
   ]
  },
  {
   "cell_type": "code",
   "execution_count": null,
   "metadata": {},
   "outputs": [],
   "source": [
    "model = DTE()\n",
    "model.train(X_train, y_train)\n",
    "model.save(\"dte\")"
   ]
  },
  {
   "cell_type": "markdown",
   "metadata": {},
   "source": [
    "## Testing the model"
   ]
  },
  {
   "cell_type": "code",
   "execution_count": null,
   "metadata": {},
   "outputs": [],
   "source": [
    "model.load(\"dte\")\n",
    "\n",
    "pred = model.forward(X_test)\n",
    "error = np.abs(y_test-pred)\n",
    "print(f\"Average error: (x) -> {np.mean(error[:, 0])} (y) -> {np.mean(error[:, 1])}\")\n",
    "\n",
    "fig, ax = plt.subplots(2, figsize=(10, 8))\n",
    "\n",
    "ax[0].plot(y_test[:, 0], label=\"Real\")\n",
    "ax[0].plot(pred[:, 0], label=\"Predicted\")\n",
    "ax[0].set_title('Force X')\n",
    "ax[0].set_xlabel('Timestamp')\n",
    "ax[0].set_ylabel('Force prediction')\n",
    "ax[0].legend()\n",
    "\n",
    "ax[1].plot(y_test[:, 1], label=\"Real\")\n",
    "ax[1].plot(pred[:, 1], label=\"Predicted\")\n",
    "ax[1].set_title('Force Y')\n",
    "ax[1].set_xlabel('Timestamp')\n",
    "ax[1].set_ylabel('Force prediction')\n",
    "\n",
    "plt.tight_layout(rect=[0, 0, 1, 0.95])\n",
    "\n",
    "plt.savefig(\"./old_scripts/imgs/tree_inf.png\", dpi=600)\n",
    "plt.show()"
   ]
  },
  {
   "cell_type": "markdown",
   "metadata": {},
   "source": [
    "## Translating the model to c code"
   ]
  },
  {
   "cell_type": "code",
   "execution_count": null,
   "metadata": {},
   "outputs": [],
   "source": [
    "# Generate the model c code\n",
    "model_path = \"./models/dte.pkl\"\n",
    "exportTree(model_path, info=\"Neural network for the standard Crazyflie\")\n",
    "\n",
    "# Test if the generated model gives the same outputs as the original\n",
    "tree_c_model_test(model, \"./data/test_data_payload.npz\")"
   ]
  },
  {
   "cell_type": "markdown",
   "metadata": {},
   "source": [
    "## Adding the model to the cf-firmware"
   ]
  },
  {
   "cell_type": "code",
   "execution_count": null,
   "metadata": {},
   "outputs": [],
   "source": [
    "shutil.copyfile(\"./LMCE/c_utils/tree.c\", \"./crazyflie-firmware/src/modules/src/controller/tree.c\")\n",
    "shutil.copyfile(\"./LMCE/c_utils/tree.h\", \"./crazyflie-firmware/src/modules/interface/controller/tree.h\")"
   ]
  },
  {
   "cell_type": "markdown",
   "metadata": {},
   "source": [
    "## Error calculation\n",
    "For calculating the error with the addition of the learning models the flights need to be re-recorded with the updated firmware."
   ]
  },
  {
   "cell_type": "code",
   "execution_count": null,
   "metadata": {},
   "outputs": [],
   "source": [
    "# Get desired path\n",
    "traj = uav_trajectory.Trajectory()\n",
    "traj.loadcsv(\"./LMCE/flight_paths/figure8.csv\")\n",
    "traj.stretchtime(2)\n",
    "\n",
    "ts = np.arange(0, traj.duration, 0.01)\n",
    "evals = np.empty((len(ts), 15))\n",
    "for t, i in zip(ts, range(0, len(ts))):\n",
    "    e = traj.eval(t)\n",
    "    e.pos += np.array([0, 0, 1])\n",
    "    evals[i, 0:3] = e.pos\n",
    "\n",
    "target_pos = evals.transpose()\n",
    "\n",
    "# Get real path\n",
    "data_path = testing_data_paths[0]\n",
    "data = cfusdlog.decode(data_path)['fixedFrequency']\n",
    "real_pos = [data[\"stateEstimate.x\"], data[\"stateEstimate.y\"]]\n",
    "\n",
    "# Calculate error\n",
    "cutoff = find_best_cutoff(real_pos, target_pos)\n",
    "avg_error = error_calculator(cutoff, real_pos, target_pos, vis=True)\n",
    "print(f\"Avg. error: {avg_error:.4f} (m)\")"
   ]
  }
 ],
 "metadata": {
  "kernelspec": {
   "display_name": "torch",
   "language": "python",
   "name": "python3"
  },
  "language_info": {
   "codemirror_mode": {
    "name": "ipython",
    "version": 3
   },
   "file_extension": ".py",
   "mimetype": "text/x-python",
   "name": "python",
   "nbconvert_exporter": "python",
   "pygments_lexer": "ipython3",
   "version": "3.11.0"
  }
 },
 "nbformat": 4,
 "nbformat_minor": 2
}
