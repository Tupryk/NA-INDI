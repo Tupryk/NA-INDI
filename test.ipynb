{
 "cells": [
  {
   "cell_type": "code",
   "execution_count": null,
   "metadata": {},
   "outputs": [],
   "source": [
    "import matplotlib.pyplot as plt\n",
    "\n",
    "from LMCE.data_prep import prepare_data\n",
    "from LMCE.residual_calculation import indi_residuals, residual\n",
    "\n",
    "plt.rcParams['text.usetex'] = True\n",
    "plt.rcParams['font.family'] = 'serif'\n",
    "plt.rcParams['font.serif'] = ['Times']"
   ]
  },
  {
   "cell_type": "code",
   "execution_count": null,
   "metadata": {},
   "outputs": [],
   "source": [
    "testing_data_paths = [\"./data/data_clean/63.npy\"]"
   ]
  },
  {
   "cell_type": "code",
   "execution_count": null,
   "metadata": {},
   "outputs": [],
   "source": [
    "make_smooth = False\n",
    "indi_residual_func = lambda data: indi_residuals(data, make_smooth=make_smooth)\n",
    "residual_func = lambda data: residual(data, use_rpm=False, make_smooth=make_smooth)\n",
    "residual_func_rpm = lambda data: residual(data, use_rpm=True, make_smooth=make_smooth)\n",
    "\n",
    "_, indi = prepare_data(\n",
    "    testing_data_paths,\n",
    "    shuffle_data=False,\n",
    "    residual_func=indi_residual_func\n",
    ")\n",
    "_, residuals_rpm = prepare_data(\n",
    "    testing_data_paths,\n",
    "    shuffle_data=False,\n",
    "    residual_func=residual_func_rpm\n",
    ")\n",
    "_, residuals = prepare_data(\n",
    "    testing_data_paths,\n",
    "    shuffle_data=False,\n",
    "    residual_func=residual_func\n",
    ")\n",
    "\n",
    "dims = ['x', 'y', 'z']\n",
    "force_type = [\"Force\", \"Torque\"]\n",
    "for i in range(6):\n",
    "    fig, ax = plt.subplots()\n",
    "    ax.set_title(f\"{force_type[i//3]} {dims[i%3]}\")\n",
    "    ax.plot(indi[:, i], label=\"INDI\", alpha=.5)\n",
    "    ax.plot(residuals_rpm[:, i], label=\"RPM\", alpha=.5)\n",
    "    ax.plot(residuals[:, i], label=\"PWM\", alpha=.5)\n",
    "    ax.legend()\n",
    "\n",
    "    plt.draw()\n",
    "    plt.show()"
   ]
  }
 ],
 "metadata": {
  "kernelspec": {
   "display_name": "robocup",
   "language": "python",
   "name": "python3"
  },
  "language_info": {
   "codemirror_mode": {
    "name": "ipython",
    "version": 3
   },
   "file_extension": ".py",
   "mimetype": "text/x-python",
   "name": "python",
   "nbconvert_exporter": "python",
   "pygments_lexer": "ipython3",
   "version": "3.10.15"
  }
 },
 "nbformat": 4,
 "nbformat_minor": 2
}
