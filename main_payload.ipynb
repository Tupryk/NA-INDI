{
 "cells": [
  {
   "cell_type": "markdown",
   "metadata": {},
   "source": [
    "# Residual model generation pipeline"
   ]
  },
  {
   "cell_type": "code",
   "execution_count": null,
   "metadata": {},
   "outputs": [],
   "source": [
    "import torch\n",
    "import shutil\n",
    "import numpy as np\n",
    "import matplotlib.pyplot as plt\n",
    "\n",
    "from LMCE.models import MLP\n",
    "from LMCE.utils import min_max\n",
    "from LMCE.trainers import train\n",
    "import LMCE.cfusdlog as cfusdlog\n",
    "import LMCE.uav_trajectory as uav_trajectory\n",
    "from LMCE.residual_calculation import indi_residuals\n",
    "from LMCE.data_prep import prepare_data, create_dataloader\n",
    "from LMCE.model_to_c_conversion import exportNet, nn_c_model_test\n",
    "from LMCE.error_estimation import error_calculator, find_best_cutoff\n",
    "\n",
    "plt.rcParams['text.usetex'] = True\n",
    "plt.rcParams['font.family'] = 'serif'\n",
    "plt.rcParams['font.serif'] = ['Times']"
   ]
  },
  {
   "cell_type": "markdown",
   "metadata": {},
   "source": [
    "## Preparing the data\n",
    "First define where the data is stored, then it can be loaded, the `prepare_data` function calculates the labels (residual forces)."
   ]
  },
  {
   "cell_type": "code",
   "execution_count": null,
   "metadata": {},
   "outputs": [],
   "source": [
    "# Get train data paths\n",
    "indices = [i for i in range(0, 100)]\n",
    "# test_indices = [22]\n",
    "# for i in test_indices:\n",
    "#     del indices[i]\n",
    "training_data_paths = [f\"./final_pay_data/lpin{i:02}\" for i in indices]\n",
    "# testing_data_paths = [f\"./final_pay_data/lpin{i:02}\" for i in test_indices]\n",
    "testing_data_paths = [\"./lpin02\"]\n",
    "\n",
    "cutoffs = {}\n",
    "\n",
    "residual_func = lambda data: indi_residuals(data, payload=True, make_smooth=True, show_fit=True)\n",
    "\n",
    "X_train, y_train_ = prepare_data(training_data_paths,\n",
    "                                 save_as=\"train_data_payload_splines\",\n",
    "                                 residual_func=residual_func,\n",
    "                                 overwrite=False,\n",
    "                                 verbose=1,\n",
    "                                 cutoffs=cutoffs,\n",
    "                                 payload=True)\n",
    "\n",
    "X_test, y_test_ = prepare_data(testing_data_paths,\n",
    "                               save_as=\"test_data_payload_splines\",\n",
    "                               shuffle_data=False,\n",
    "                               residual_func=residual_func,\n",
    "                               overwrite=False,\n",
    "                               verbose=1,\n",
    "                               cutoffs=cutoffs,\n",
    "                               payload=True)\n",
    "\n",
    "y_train_ = y_train_[:, 3:]\n",
    "y_test_ = y_test_[:, 3:]"
   ]
  },
  {
   "cell_type": "code",
   "execution_count": null,
   "metadata": {},
   "outputs": [],
   "source": [
    "_, X_mins, X_maxs = min_max(X_train.copy())\n",
    "X_mins[:6] = -1.\n",
    "X_maxs[:6] = 1.\n",
    "X_train, _, _ = min_max(X_train, X_mins, X_maxs)\n",
    "X_test, _, _ = min_max(X_test, X_mins, X_maxs)\n",
    "\n",
    "y_train, y_mins, y_maxs = min_max(y_train_)\n",
    "y_test, _, _ = min_max(y_test_, y_mins, y_maxs)\n",
    "\n",
    "train_loader = create_dataloader(X_train, y_train)\n",
    "val_loader = create_dataloader(X_test, y_test)\n",
    "\n",
    "print(\"Train size: \", X_train.shape[0])\n",
    "print(\"Test size: \", X_test.shape[0])\n",
    "print(\"X dim: \", X_train.shape[1], \"y dim: \", y_train.shape[1])"
   ]
  },
  {
   "cell_type": "markdown",
   "metadata": {},
   "source": [
    "We can plot the flight path and residual forces like this"
   ]
  },
  {
   "cell_type": "markdown",
   "metadata": {},
   "source": [
    "## Training the model"
   ]
  },
  {
   "cell_type": "code",
   "execution_count": null,
   "metadata": {},
   "outputs": [],
   "source": [
    "# Create and train neural network\n",
    "model = MLP(input_size=X_train.shape[1], output_size=y_train.shape[1], hidden_layers=[24, 24, 24])\n",
    "# model = train(model, train_loader, val_loader, lr=3e-4, scheduler_gamma=.92, scheduler_step_size=10, device=\"cpu\", epochs=128)\n",
    "# model.save(\"mlp_payload\")"
   ]
  },
  {
   "cell_type": "markdown",
   "metadata": {},
   "source": [
    "## Testing the model"
   ]
  },
  {
   "cell_type": "code",
   "execution_count": null,
   "metadata": {},
   "outputs": [],
   "source": [
    "residual_func = lambda data: indi_residuals(data, payload=True, make_smooth=False)\n",
    "\n",
    "X_test, y_test_ = prepare_data([\"./payload_final/cric_new/indi/lpin01\"],\n",
    "                               save_as=\"test_data_pay\",\n",
    "                               shuffle_data=False,\n",
    "                               residual_func=residual_func,\n",
    "                               overwrite=True,\n",
    "                               verbose=1,\n",
    "                               payload=True)\n",
    "y_test_ = y_test_[:, 3:]\n",
    "X_test, _, _ = min_max(X_test, X_mins, X_maxs)\n",
    "y_test, _, _ = min_max(y_test_, y_mins, y_maxs)\n",
    "\n",
    "model.float()\n",
    "val_loader = create_dataloader(X_test, y_test)\n",
    "\n",
    "weights = torch.load('./models/mlp_payload.pth')\n",
    "model.load_state_dict(weights)\n",
    "\n",
    "tensor_input = torch.from_numpy(X_test).type(torch.float32)\n",
    "pred = model.forward(tensor_input).detach().numpy()\n",
    "error = np.abs(y_test-pred)\n",
    "# print(f\"Average force error: (x, y, z) N -> ({np.mean(error[:, 0]):.4f}, {np.mean(error[:, 1]):.4f}, {np.mean(error[:, 2]):.4f}) N\")\n",
    "# print(f\"Average torque error: (x, y, z) N -> ({np.mean(error[:, 3]):.4f}, {np.mean(error[:, 4]):.4f}, {np.mean(error[:, 5]):.4f}) N\")\n",
    "\n",
    "y_test_scaled = (y_test + 1) * .5 * (y_maxs - y_mins) + y_mins\n",
    "pred_scaled = (pred + 1) * .5 * (y_maxs - y_mins) + y_mins\n",
    "\n",
    "fig, ax = plt.subplots(3, figsize=(10, 15))\n",
    "for i, f in enumerate([\"Torque\"]):\n",
    "    for j, v in enumerate([\"X\", \"Y\", \"Z\"]):\n",
    "        idx = j+i*3\n",
    "        ax[idx].plot(y_test_scaled[:, idx], label=\"Real\")\n",
    "        ax[idx].plot(pred_scaled[:, idx], label=\"Predicted\")\n",
    "        # ax[idx].plot(y_test[:, idx], label=\"Real\")\n",
    "        # ax[idx].plot(pred[:, idx], label=\"Predicted\")\n",
    "        ax[idx].set_title(f'{f} {v}')\n",
    "        ax[idx].set_xlabel('Timestamp')\n",
    "        ax[idx].set_ylabel(f'{f} prediction')\n",
    "        ax[idx].legend()\n",
    "\n",
    "plt.show()"
   ]
  },
  {
   "cell_type": "markdown",
   "metadata": {},
   "source": [
    "## Translating the model to c code"
   ]
  },
  {
   "cell_type": "code",
   "execution_count": null,
   "metadata": {},
   "outputs": [],
   "source": [
    "# Generate the model c code\n",
    "model_path = \"./models/mlp_payload.pth\"\n",
    "exportNet(model_path, X_mins=X_mins, X_maxs=X_maxs, y_mins=y_mins, y_maxs=y_maxs, info=\"Neural network for the 2.1 Crazyflie carrying a payload\")\n",
    "\n",
    "# Test if the generated model gives the same outputs as the original\n",
    "model.double()\n",
    "nn_c_model_test(model, X_mins=X_mins, X_maxs=X_maxs, y_mins=y_mins, y_maxs=y_maxs, in_dim=X_train.shape[1])"
   ]
  },
  {
   "cell_type": "markdown",
   "metadata": {},
   "source": [
    "## Adding the model to the cf-firmware"
   ]
  },
  {
   "cell_type": "code",
   "execution_count": null,
   "metadata": {},
   "outputs": [],
   "source": [
    "try:\n",
    "    shutil.copyfile(\"./LMCE/c_utils/nn.c\", \"../crazyflie-firmware/src/modules/src/controller/nn_payload.c\")\n",
    "    shutil.copyfile(\"./LMCE/c_utils/nn.h\", \"../crazyflie-firmware/src/modules/interface/controller/nn_payload.h\")\n",
    "    print(\"Successfully copied nn to firmware.\")\n",
    "except:\n",
    "    print(\"Crazyflie firmware not found.\")"
   ]
  },
  {
   "cell_type": "markdown",
   "metadata": {},
   "source": [
    "## Error calculation\n",
    "For calculating the error with the addition of the learning models the flights need to be re-recorded with the updated firmware."
   ]
  },
  {
   "cell_type": "code",
   "execution_count": null,
   "metadata": {},
   "outputs": [],
   "source": [
    "# Get desired path\n",
    "traj = uav_trajectory.Trajectory()\n",
    "traj.loadcsv(\"./LMCE/flight_paths/figure8.csv\")\n",
    "traj.stretchtime(2)\n",
    "\n",
    "ts = np.arange(0, traj.duration, 0.01)\n",
    "evals = np.empty((len(ts), 15))\n",
    "for t, i in zip(ts, range(0, len(ts))):\n",
    "    e = traj.eval(t)\n",
    "    e.pos += np.array([0, 0, 1])\n",
    "    evals[i, 0:3] = e.pos\n",
    "\n",
    "target_pos = evals.transpose()\n",
    "\n",
    "# Get real path\n",
    "data_path = \"inditest/tle94\"\n",
    "try:\n",
    "    data = cfusdlog.decode(data_path)['fixedFrequency']\n",
    "    start = 190\n",
    "    end = 500\n",
    "    real_pos = [data[\"stateEstimate.x\"][start:end], data[\"stateEstimate.y\"][start:end]-1.]\n",
    "\n",
    "    # Calculate error\n",
    "    cutoff = find_best_cutoff(real_pos, target_pos)\n",
    "    avg_error = error_calculator(cutoff, real_pos, target_pos, vis=True)\n",
    "    print(f\"Avg. error: {avg_error:.4f} (m)\")\n",
    "except:\n",
    "    print(\"Test file not found.\")"
   ]
  },
  {
   "cell_type": "code",
   "execution_count": null,
   "metadata": {},
   "outputs": [],
   "source": []
  }
 ],
 "metadata": {
  "kernelspec": {
   "display_name": "robocup",
   "language": "python",
   "name": "python3"
  },
  "language_info": {
   "codemirror_mode": {
    "name": "ipython",
    "version": 3
   },
   "file_extension": ".py",
   "mimetype": "text/x-python",
   "name": "python",
   "nbconvert_exporter": "python",
   "pygments_lexer": "ipython3",
   "version": "3.10.15"
  }
 },
 "nbformat": 4,
 "nbformat_minor": 2
}
